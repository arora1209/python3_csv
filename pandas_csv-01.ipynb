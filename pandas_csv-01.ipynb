{
 "cells": [
  {
   "cell_type": "code",
   "execution_count": 1,
   "metadata": {},
   "outputs": [],
   "source": [
    "import pandas as pd\n",
    "import numpy as np\n",
    "import matplotlib.pyplot as plt"
   ]
  },
  {
   "cell_type": "code",
   "execution_count": 2,
   "metadata": {},
   "outputs": [],
   "source": [
    "p=pd.read_csv('C:/Users/HP/Downloads/gapminder-FiveYearData.csv')"
   ]
  },
  {
   "cell_type": "code",
   "execution_count": 4,
   "metadata": {},
   "outputs": [
    {
     "name": "stdout",
     "output_type": "stream",
     "text": [
      "          country  year        pop continent  lifeExp     gdpPercap\n",
      "0     Afghanistan  1952  8425333.0      Asia   28.801    779.445314\n",
      "90        Bahrain  1982   377967.0      Asia   69.052  19211.147310\n",
      "199  Burkina Faso  1987  7586551.0    Africa   49.557    912.063142\n"
     ]
    }
   ],
   "source": [
    "print(p.loc[[0,90,199]])"
   ]
  },
  {
   "cell_type": "code",
   "execution_count": 5,
   "metadata": {},
   "outputs": [
    {
     "name": "stdout",
     "output_type": "stream",
     "text": [
      "country      Afghanistan\n",
      "year                1957\n",
      "pop          9.24093e+06\n",
      "continent           Asia\n",
      "lifeExp           30.332\n",
      "gdpPercap        820.853\n",
      "Name: 1, dtype: object\n"
     ]
    }
   ],
   "source": [
    "print(p.loc[1])"
   ]
  },
  {
   "cell_type": "code",
   "execution_count": 6,
   "metadata": {},
   "outputs": [
    {
     "name": "stdout",
     "output_type": "stream",
     "text": [
      "country      Afghanistan\n",
      "year                1957\n",
      "pop          9.24093e+06\n",
      "continent           Asia\n",
      "lifeExp           30.332\n",
      "gdpPercap        820.853\n",
      "Name: 1, dtype: object\n"
     ]
    }
   ],
   "source": [
    "print(p.iloc[1])"
   ]
  },
  {
   "cell_type": "code",
   "execution_count": 7,
   "metadata": {},
   "outputs": [
    {
     "name": "stdout",
     "output_type": "stream",
     "text": [
      "country         Zimbabwe\n",
      "year                2007\n",
      "pop          1.23111e+07\n",
      "continent         Africa\n",
      "lifeExp           43.487\n",
      "gdpPercap        469.709\n",
      "Name: 1703, dtype: object\n"
     ]
    }
   ],
   "source": [
    "print(p.iloc[-1])"
   ]
  },
  {
   "cell_type": "code",
   "execution_count": 12,
   "metadata": {},
   "outputs": [],
   "source": [
    "s=p.loc[:,['year','pop']]"
   ]
  },
  {
   "cell_type": "code",
   "execution_count": 13,
   "metadata": {},
   "outputs": [
    {
     "name": "stdout",
     "output_type": "stream",
     "text": [
      "      year         pop\n",
      "0     1952   8425333.0\n",
      "1     1957   9240934.0\n",
      "2     1962  10267083.0\n",
      "3     1967  11537966.0\n",
      "4     1972  13079460.0\n",
      "5     1977  14880372.0\n",
      "6     1982  12881816.0\n",
      "7     1987  13867957.0\n",
      "8     1992  16317921.0\n",
      "9     1997  22227415.0\n",
      "10    2002  25268405.0\n",
      "11    2007  31889923.0\n",
      "12    1952   1282697.0\n",
      "13    1957   1476505.0\n",
      "14    1962   1728137.0\n",
      "15    1967   1984060.0\n",
      "16    1972   2263554.0\n",
      "17    1977   2509048.0\n",
      "18    1982   2780097.0\n",
      "19    1987   3075321.0\n",
      "20    1992   3326498.0\n",
      "21    1997   3428038.0\n",
      "22    2002   3508512.0\n",
      "23    2007   3600523.0\n",
      "24    1952   9279525.0\n",
      "25    1957  10270856.0\n",
      "26    1962  11000948.0\n",
      "27    1967  12760499.0\n",
      "28    1972  14760787.0\n",
      "29    1977  17152804.0\n",
      "...    ...         ...\n",
      "1674  1982   9657618.0\n",
      "1675  1987  11219340.0\n",
      "1676  1992  13367997.0\n",
      "1677  1997  15826497.0\n",
      "1678  2002  18701257.0\n",
      "1679  2007  22211743.0\n",
      "1680  1952   2672000.0\n",
      "1681  1957   3016000.0\n",
      "1682  1962   3421000.0\n",
      "1683  1967   3900000.0\n",
      "1684  1972   4506497.0\n",
      "1685  1977   5216550.0\n",
      "1686  1982   6100407.0\n",
      "1687  1987   7272406.0\n",
      "1688  1992   8381163.0\n",
      "1689  1997   9417789.0\n",
      "1690  2002  10595811.0\n",
      "1691  2007  11746035.0\n",
      "1692  1952   3080907.0\n",
      "1693  1957   3646340.0\n",
      "1694  1962   4277736.0\n",
      "1695  1967   4995432.0\n",
      "1696  1972   5861135.0\n",
      "1697  1977   6642107.0\n",
      "1698  1982   7636524.0\n",
      "1699  1987   9216418.0\n",
      "1700  1992  10704340.0\n",
      "1701  1997  11404948.0\n",
      "1702  2002  11926563.0\n",
      "1703  2007  12311143.0\n",
      "\n",
      "[1704 rows x 2 columns]\n"
     ]
    }
   ],
   "source": [
    "print(s)"
   ]
  },
  {
   "cell_type": "code",
   "execution_count": 14,
   "metadata": {},
   "outputs": [
    {
     "name": "stdout",
     "output_type": "stream",
     "text": [
      "<pandas.core.indexing._iLocIndexer object at 0x000001B9DA32E2C8>\n"
     ]
    }
   ],
   "source": [
    "print(s.iloc(1))"
   ]
  },
  {
   "cell_type": "code",
   "execution_count": 15,
   "metadata": {},
   "outputs": [
    {
     "name": "stdout",
     "output_type": "stream",
     "text": [
      "year       1957.0\n",
      "pop     9240934.0\n",
      "Name: 1, dtype: float64\n"
     ]
    }
   ],
   "source": [
    "print(s.iloc[1])"
   ]
  },
  {
   "cell_type": "code",
   "execution_count": 16,
   "metadata": {},
   "outputs": [],
   "source": [
    "small_range=list(range(5))"
   ]
  },
  {
   "cell_type": "code",
   "execution_count": 17,
   "metadata": {},
   "outputs": [
    {
     "name": "stdout",
     "output_type": "stream",
     "text": [
      "[0, 1, 2, 3, 4]\n"
     ]
    }
   ],
   "source": [
    "print(small_range)"
   ]
  },
  {
   "cell_type": "code",
   "execution_count": 19,
   "metadata": {},
   "outputs": [
    {
     "name": "stdout",
     "output_type": "stream",
     "text": [
      "Algeria\n"
     ]
    }
   ],
   "source": [
    "print(p.loc[30,'country'])"
   ]
  },
  {
   "cell_type": "code",
   "execution_count": 21,
   "metadata": {},
   "outputs": [
    {
     "name": "stdout",
     "output_type": "stream",
     "text": [
      "Afghanistan\n"
     ]
    }
   ],
   "source": [
    "print(p.loc[3,'country'])"
   ]
  },
  {
   "cell_type": "code",
   "execution_count": 23,
   "metadata": {},
   "outputs": [
    {
     "name": "stdout",
     "output_type": "stream",
     "text": [
      "    year        pop continent\n",
      "12  1952  1282697.0    Europe\n",
      "23  2007  3600523.0    Europe\n"
     ]
    }
   ],
   "source": [
    "print(p.iloc[[12,23],[1,2,3]])"
   ]
  },
  {
   "cell_type": "code",
   "execution_count": 24,
   "metadata": {},
   "outputs": [
    {
     "name": "stdout",
     "output_type": "stream",
     "text": [
      "    country\n",
      "12  Albania\n",
      "23  Albania\n"
     ]
    }
   ],
   "source": [
    "print(p.iloc[[12,23],[0]])"
   ]
  },
  {
   "cell_type": "code",
   "execution_count": 26,
   "metadata": {},
   "outputs": [
    {
     "name": "stdout",
     "output_type": "stream",
     "text": [
      "      country\n",
      "50  Argentina\n",
      "51  Argentina\n",
      "52  Argentina\n",
      "53  Argentina\n",
      "54  Argentina\n",
      "55  Argentina\n",
      "56  Argentina\n",
      "57  Argentina\n",
      "58  Argentina\n",
      "59  Argentina\n",
      "60  Australia\n"
     ]
    }
   ],
   "source": [
    "print(p.loc[50:60,['country']])"
   ]
  },
  {
   "cell_type": "code",
   "execution_count": 27,
   "metadata": {},
   "outputs": [
    {
     "name": "stdout",
     "output_type": "stream",
     "text": [
      "      country  year         pop\n",
      "50  Argentina  1962  21283783.0\n",
      "51  Argentina  1967  22934225.0\n",
      "52  Argentina  1972  24779799.0\n",
      "53  Argentina  1977  26983828.0\n",
      "54  Argentina  1982  29341374.0\n",
      "55  Argentina  1987  31620918.0\n",
      "56  Argentina  1992  33958947.0\n",
      "57  Argentina  1997  36203463.0\n",
      "58  Argentina  2002  38331121.0\n",
      "59  Argentina  2007  40301927.0\n"
     ]
    }
   ],
   "source": [
    "print(p.iloc[50:60,[0,1,2]])"
   ]
  },
  {
   "cell_type": "code",
   "execution_count": 28,
   "metadata": {
    "scrolled": true
   },
   "outputs": [
    {
     "name": "stdout",
     "output_type": "stream",
     "text": [
      "<pandas.core.groupby.generic.DataFrameGroupBy object at 0x000001B9DB9627B8>\n"
     ]
    }
   ],
   "source": [
    "print(p.groupby('year'))"
   ]
  },
  {
   "cell_type": "code",
   "execution_count": 30,
   "metadata": {},
   "outputs": [
    {
     "name": "stdout",
     "output_type": "stream",
     "text": [
      "year\n",
      "1952    49.057620\n",
      "1957    51.507401\n",
      "1962    53.609249\n",
      "1967    55.678290\n",
      "1972    57.647386\n",
      "1977    59.570157\n",
      "1982    61.533197\n",
      "1987    63.212613\n",
      "1992    64.160338\n",
      "1997    65.014676\n",
      "2002    65.694923\n",
      "2007    67.007423\n",
      "Name: lifeExp, dtype: float64\n"
     ]
    }
   ],
   "source": [
    "print(p.groupby('year')['lifeExp'].mean())"
   ]
  },
  {
   "cell_type": "code",
   "execution_count": 34,
   "metadata": {},
   "outputs": [
    {
     "name": "stdout",
     "output_type": "stream",
     "text": [
      "continent\n",
      "Africa      1979.5\n",
      "Americas    1979.5\n",
      "Asia        1979.5\n",
      "Europe      1979.5\n",
      "Oceania     1979.5\n",
      "Name: year, dtype: float64\n"
     ]
    }
   ],
   "source": [
    "print(p.groupby('continent')['year'].mean())"
   ]
  },
  {
   "cell_type": "code",
   "execution_count": 36,
   "metadata": {},
   "outputs": [
    {
     "name": "stdout",
     "output_type": "stream",
     "text": [
      "year\n",
      "1952    1.695040e+07\n",
      "1957    1.876341e+07\n",
      "1962    2.042101e+07\n",
      "1967    2.265830e+07\n",
      "1972    2.518998e+07\n",
      "1977    2.767638e+07\n",
      "1982    3.020730e+07\n",
      "1987    3.303857e+07\n",
      "1992    3.599092e+07\n",
      "1997    3.883947e+07\n",
      "2002    4.145759e+07\n",
      "2007    4.402122e+07\n",
      "Name: pop, dtype: float64\n"
     ]
    }
   ],
   "source": [
    "print(p.groupby('year')['pop'].mean())"
   ]
  },
  {
   "cell_type": "code",
   "execution_count": 40,
   "metadata": {},
   "outputs": [
    {
     "name": "stdout",
     "output_type": "stream",
     "text": [
      "country      Afghanistan\n",
      "year                1962\n",
      "pop          1.02671e+07\n",
      "continent           Asia\n",
      "lifeExp           31.997\n",
      "gdpPercap        853.101\n",
      "Name: 2, dtype: object\n"
     ]
    }
   ],
   "source": [
    "print(p.loc[2])"
   ]
  },
  {
   "cell_type": "code",
   "execution_count": 41,
   "metadata": {},
   "outputs": [
    {
     "name": "stdout",
     "output_type": "stream",
     "text": [
      "country      Afghanistan\n",
      "year                1962\n",
      "pop          1.02671e+07\n",
      "continent           Asia\n",
      "lifeExp           31.997\n",
      "gdpPercap        853.101\n",
      "Name: 2, dtype: object country        Argentina\n",
      "year                1962\n",
      "pop          2.12838e+07\n",
      "continent       Americas\n",
      "lifeExp           65.142\n",
      "gdpPercap        7133.17\n",
      "Name: 50, dtype: object\n"
     ]
    }
   ],
   "source": [
    "print(p.loc[2],p.loc[50])"
   ]
  },
  {
   "cell_type": "code",
   "execution_count": 42,
   "metadata": {},
   "outputs": [],
   "source": [
    "m=p.groupby(['year','continent'])['lifeExp','gdpPercap'].mean()"
   ]
  },
  {
   "cell_type": "code",
   "execution_count": 43,
   "metadata": {},
   "outputs": [
    {
     "name": "stdout",
     "output_type": "stream",
     "text": [
      "                  lifeExp     gdpPercap\n",
      "year continent                         \n",
      "1952 Africa     39.135500   1252.572466\n",
      "     Americas   53.279840   4079.062552\n",
      "     Asia       46.314394   5195.484004\n",
      "     Europe     64.408500   5661.057435\n",
      "     Oceania    69.255000  10298.085650\n",
      "1957 Africa     41.266346   1385.236062\n",
      "     Americas   55.960280   4616.043733\n",
      "     Asia       49.318544   5787.732940\n",
      "     Europe     66.703067   6963.012816\n",
      "     Oceania    70.295000  11598.522455\n",
      "1962 Africa     43.319442   1598.078825\n",
      "     Americas   58.398760   4901.541870\n",
      "     Asia       51.563223   5729.369625\n",
      "     Europe     68.539233   8365.486814\n",
      "     Oceania    71.085000  12696.452430\n",
      "1967 Africa     45.334538   2050.363801\n",
      "     Americas   60.410920   5668.253496\n",
      "     Asia       54.663640   5971.173374\n",
      "     Europe     69.737600  10143.823757\n",
      "     Oceania    71.310000  14495.021790\n",
      "1972 Africa     47.450942   2339.615674\n",
      "     Americas   62.394920   6491.334139\n",
      "     Asia       57.319269   8187.468699\n",
      "     Europe     70.775033  12479.575246\n",
      "     Oceania    71.910000  16417.333380\n",
      "1977 Africa     49.580423   2585.938508\n",
      "     Americas   64.391560   7352.007126\n",
      "     Asia       59.610556   7791.314020\n",
      "     Europe     71.937767  14283.979110\n",
      "     Oceania    72.855000  17283.957605\n",
      "1982 Africa     51.592865   2481.592960\n",
      "     Americas   66.228840   7506.737088\n",
      "     Asia       62.617939   7434.135157\n",
      "     Europe     72.806400  15617.896551\n",
      "     Oceania    74.290000  18554.709840\n",
      "1987 Africa     53.344788   2282.668991\n",
      "     Americas   68.090720   7793.400261\n",
      "     Asia       64.851182   7608.226508\n",
      "     Europe     73.642167  17214.310727\n",
      "     Oceania    75.320000  20448.040160\n",
      "1992 Africa     53.629577   2281.810333\n",
      "     Americas   69.568360   8044.934406\n",
      "     Asia       66.537212   8639.690248\n",
      "     Europe     74.440100  17061.568084\n",
      "     Oceania    76.945000  20894.045885\n",
      "1997 Africa     53.598269   2378.759555\n",
      "     Americas   71.150480   8889.300863\n",
      "     Asia       68.020515   9834.093295\n",
      "     Europe     75.505167  19076.781802\n",
      "     Oceania    78.190000  24024.175170\n",
      "2002 Africa     53.325231   2599.385159\n",
      "     Americas   72.422040   9287.677107\n",
      "     Asia       69.233879  10174.090397\n",
      "     Europe     76.700600  21711.732422\n",
      "     Oceania    79.740000  26938.778040\n",
      "2007 Africa     54.806038   3089.032605\n",
      "     Americas   73.608120  11003.031625\n",
      "     Asia       70.728485  12473.026870\n",
      "     Europe     77.648600  25054.481636\n",
      "     Oceania    80.719500  29810.188275\n"
     ]
    }
   ],
   "source": [
    "print(m)"
   ]
  },
  {
   "cell_type": "code",
   "execution_count": 45,
   "metadata": {},
   "outputs": [
    {
     "name": "stdout",
     "output_type": "stream",
     "text": [
      "                    pop    year\n",
      "continent                      \n",
      "Africa     9.916003e+06  1979.5\n",
      "Americas   2.450479e+07  1979.5\n",
      "Asia       7.703872e+07  1979.5\n",
      "Europe     1.716976e+07  1979.5\n",
      "Oceania    8.874672e+06  1979.5\n"
     ]
    }
   ],
   "source": [
    "print(p.groupby(['continent'])['pop','year'].mean())"
   ]
  },
  {
   "cell_type": "code",
   "execution_count": 46,
   "metadata": {},
   "outputs": [
    {
     "name": "stdout",
     "output_type": "stream",
     "text": [
      "<pandas.core.groupby.generic.DataFrameGroupBy object at 0x000001B9DC4F8780>\n"
     ]
    }
   ],
   "source": [
    "print(p.groupby(['continent'])['pop','year'])"
   ]
  },
  {
   "cell_type": "code",
   "execution_count": 1,
   "metadata": {},
   "outputs": [
    {
     "ename": "NameError",
     "evalue": "name 'p' is not defined",
     "output_type": "error",
     "traceback": [
      "\u001b[1;31m---------------------------------------------------------------------------\u001b[0m",
      "\u001b[1;31mNameError\u001b[0m                                 Traceback (most recent call last)",
      "\u001b[1;32m<ipython-input-1-d2a923049ad2>\u001b[0m in \u001b[0;36m<module>\u001b[1;34m\u001b[0m\n\u001b[1;32m----> 1\u001b[1;33m \u001b[0mr\u001b[0m\u001b[1;33m=\u001b[0m\u001b[0mp\u001b[0m\u001b[1;33m.\u001b[0m\u001b[0mreset_index\u001b[0m\u001b[1;33m(\u001b[0m\u001b[1;33m)\u001b[0m\u001b[1;33m\u001b[0m\u001b[1;33m\u001b[0m\u001b[0m\n\u001b[0m\u001b[0;32m      2\u001b[0m \u001b[0mprint\u001b[0m \u001b[1;33m(\u001b[0m\u001b[0mr\u001b[0m\u001b[1;33m)\u001b[0m\u001b[1;33m\u001b[0m\u001b[1;33m\u001b[0m\u001b[0m\n",
      "\u001b[1;31mNameError\u001b[0m: name 'p' is not defined"
     ]
    }
   ],
   "source": []
  },
  {
   "cell_type": "code",
   "execution_count": 3,
   "metadata": {},
   "outputs": [],
   "source": [
    "import pandas as pd\n",
    "import numpy as np\n",
    "import matplotlib.pyplot as plt\n",
    "p=pd.read_csv('C:/Users/HP/Downloads/gapminder-FiveYearData.csv')"
   ]
  },
  {
   "cell_type": "code",
   "execution_count": 4,
   "metadata": {},
   "outputs": [
    {
     "name": "stdout",
     "output_type": "stream",
     "text": [
      "      index      country  year         pop continent  lifeExp    gdpPercap\n",
      "0         0  Afghanistan  1952   8425333.0      Asia   28.801   779.445314\n",
      "1         1  Afghanistan  1957   9240934.0      Asia   30.332   820.853030\n",
      "2         2  Afghanistan  1962  10267083.0      Asia   31.997   853.100710\n",
      "3         3  Afghanistan  1967  11537966.0      Asia   34.020   836.197138\n",
      "4         4  Afghanistan  1972  13079460.0      Asia   36.088   739.981106\n",
      "5         5  Afghanistan  1977  14880372.0      Asia   38.438   786.113360\n",
      "6         6  Afghanistan  1982  12881816.0      Asia   39.854   978.011439\n",
      "7         7  Afghanistan  1987  13867957.0      Asia   40.822   852.395945\n",
      "8         8  Afghanistan  1992  16317921.0      Asia   41.674   649.341395\n",
      "9         9  Afghanistan  1997  22227415.0      Asia   41.763   635.341351\n",
      "10       10  Afghanistan  2002  25268405.0      Asia   42.129   726.734055\n",
      "11       11  Afghanistan  2007  31889923.0      Asia   43.828   974.580338\n",
      "12       12      Albania  1952   1282697.0    Europe   55.230  1601.056136\n",
      "13       13      Albania  1957   1476505.0    Europe   59.280  1942.284244\n",
      "14       14      Albania  1962   1728137.0    Europe   64.820  2312.888958\n",
      "15       15      Albania  1967   1984060.0    Europe   66.220  2760.196931\n",
      "16       16      Albania  1972   2263554.0    Europe   67.690  3313.422188\n",
      "17       17      Albania  1977   2509048.0    Europe   68.930  3533.003910\n",
      "18       18      Albania  1982   2780097.0    Europe   70.420  3630.880722\n",
      "19       19      Albania  1987   3075321.0    Europe   72.000  3738.932735\n",
      "20       20      Albania  1992   3326498.0    Europe   71.581  2497.437901\n",
      "21       21      Albania  1997   3428038.0    Europe   72.950  3193.054604\n",
      "22       22      Albania  2002   3508512.0    Europe   75.651  4604.211737\n",
      "23       23      Albania  2007   3600523.0    Europe   76.423  5937.029526\n",
      "24       24      Algeria  1952   9279525.0    Africa   43.077  2449.008185\n",
      "25       25      Algeria  1957  10270856.0    Africa   45.685  3013.976023\n",
      "26       26      Algeria  1962  11000948.0    Africa   48.303  2550.816880\n",
      "27       27      Algeria  1967  12760499.0    Africa   51.407  3246.991771\n",
      "28       28      Algeria  1972  14760787.0    Africa   54.518  4182.663766\n",
      "29       29      Algeria  1977  17152804.0    Africa   58.014  4910.416756\n",
      "...     ...          ...   ...         ...       ...      ...          ...\n",
      "1674   1674   Yemen Rep.  1982   9657618.0      Asia   49.113  1977.557010\n",
      "1675   1675   Yemen Rep.  1987  11219340.0      Asia   52.922  1971.741538\n",
      "1676   1676   Yemen Rep.  1992  13367997.0      Asia   55.599  1879.496673\n",
      "1677   1677   Yemen Rep.  1997  15826497.0      Asia   58.020  2117.484526\n",
      "1678   1678   Yemen Rep.  2002  18701257.0      Asia   60.308  2234.820827\n",
      "1679   1679   Yemen Rep.  2007  22211743.0      Asia   62.698  2280.769906\n",
      "1680   1680       Zambia  1952   2672000.0    Africa   42.038  1147.388831\n",
      "1681   1681       Zambia  1957   3016000.0    Africa   44.077  1311.956766\n",
      "1682   1682       Zambia  1962   3421000.0    Africa   46.023  1452.725766\n",
      "1683   1683       Zambia  1967   3900000.0    Africa   47.768  1777.077318\n",
      "1684   1684       Zambia  1972   4506497.0    Africa   50.107  1773.498265\n",
      "1685   1685       Zambia  1977   5216550.0    Africa   51.386  1588.688299\n",
      "1686   1686       Zambia  1982   6100407.0    Africa   51.821  1408.678565\n",
      "1687   1687       Zambia  1987   7272406.0    Africa   50.821  1213.315116\n",
      "1688   1688       Zambia  1992   8381163.0    Africa   46.100  1210.884633\n",
      "1689   1689       Zambia  1997   9417789.0    Africa   40.238  1071.353818\n",
      "1690   1690       Zambia  2002  10595811.0    Africa   39.193  1071.613938\n",
      "1691   1691       Zambia  2007  11746035.0    Africa   42.384  1271.211593\n",
      "1692   1692     Zimbabwe  1952   3080907.0    Africa   48.451   406.884115\n",
      "1693   1693     Zimbabwe  1957   3646340.0    Africa   50.469   518.764268\n",
      "1694   1694     Zimbabwe  1962   4277736.0    Africa   52.358   527.272182\n",
      "1695   1695     Zimbabwe  1967   4995432.0    Africa   53.995   569.795071\n",
      "1696   1696     Zimbabwe  1972   5861135.0    Africa   55.635   799.362176\n",
      "1697   1697     Zimbabwe  1977   6642107.0    Africa   57.674   685.587682\n",
      "1698   1698     Zimbabwe  1982   7636524.0    Africa   60.363   788.855041\n",
      "1699   1699     Zimbabwe  1987   9216418.0    Africa   62.351   706.157306\n",
      "1700   1700     Zimbabwe  1992  10704340.0    Africa   60.377   693.420786\n",
      "1701   1701     Zimbabwe  1997  11404948.0    Africa   46.809   792.449960\n",
      "1702   1702     Zimbabwe  2002  11926563.0    Africa   39.989   672.038623\n",
      "1703   1703     Zimbabwe  2007  12311143.0    Africa   43.487   469.709298\n",
      "\n",
      "[1704 rows x 7 columns]\n"
     ]
    }
   ],
   "source": [
    "r=p.reset_index()\n",
    "print(r)"
   ]
  },
  {
   "cell_type": "code",
   "execution_count": 10,
   "metadata": {},
   "outputs": [],
   "source": [
    "import pandas as pd\n",
    "import numpy as np\n",
    "import matplotlib.pyplot as plt\n",
    "p=pd.read_csv('C:/Users/HP/Downloads/gapminder-FiveYearData.csv')"
   ]
  },
  {
   "cell_type": "code",
   "execution_count": 11,
   "metadata": {},
   "outputs": [
    {
     "name": "stdout",
     "output_type": "stream",
     "text": [
      "continent\n",
      "Africa      52\n",
      "Americas    25\n",
      "Asia        33\n",
      "Europe      30\n",
      "Oceania      2\n",
      "Name: country, dtype: int64\n"
     ]
    }
   ],
   "source": [
    "print(p.groupby('continent')['country'].nunique())"
   ]
  },
  {
   "cell_type": "code",
   "execution_count": 12,
   "metadata": {},
   "outputs": [
    {
     "name": "stdout",
     "output_type": "stream",
     "text": [
      "continent\n",
      "Africa      12\n",
      "Americas    12\n",
      "Asia        12\n",
      "Europe      12\n",
      "Oceania     12\n",
      "Name: year, dtype: int64\n"
     ]
    }
   ],
   "source": [
    "print(p.groupby('continent')['year'].nunique())"
   ]
  },
  {
   "cell_type": "code",
   "execution_count": 13,
   "metadata": {},
   "outputs": [
    {
     "name": "stdout",
     "output_type": "stream",
     "text": [
      "year\n",
      "1952    142\n",
      "1957    142\n",
      "1962    142\n",
      "1967    142\n",
      "1972    142\n",
      "1977    142\n",
      "1982    142\n",
      "1987    142\n",
      "1992    142\n",
      "1997    142\n",
      "2002    142\n",
      "2007    142\n",
      "Name: country, dtype: int64\n"
     ]
    }
   ],
   "source": [
    "print(p.groupby('year')['country'].nunique())"
   ]
  },
  {
   "cell_type": "code",
   "execution_count": 14,
   "metadata": {},
   "outputs": [],
   "source": [
    "le=p.groupby('year')['lifeExp'].mean()"
   ]
  },
  {
   "cell_type": "code",
   "execution_count": 15,
   "metadata": {},
   "outputs": [
    {
     "name": "stdout",
     "output_type": "stream",
     "text": [
      "year\n",
      "1952    49.057620\n",
      "1957    51.507401\n",
      "1962    53.609249\n",
      "1967    55.678290\n",
      "1972    57.647386\n",
      "1977    59.570157\n",
      "1982    61.533197\n",
      "1987    63.212613\n",
      "1992    64.160338\n",
      "1997    65.014676\n",
      "2002    65.694923\n",
      "2007    67.007423\n",
      "Name: lifeExp, dtype: float64\n"
     ]
    }
   ],
   "source": [
    "print(le)"
   ]
  },
  {
   "cell_type": "code",
   "execution_count": 16,
   "metadata": {},
   "outputs": [
    {
     "data": {
      "text/plain": [
       "<matplotlib.axes._subplots.AxesSubplot at 0x138c19a6b70>"
      ]
     },
     "execution_count": 16,
     "metadata": {},
     "output_type": "execute_result"
    },
    {
     "data": {
      "image/png": "[encoded data removed]",
      "text/plain": [
       "<Figure size 432x288 with 1 Axes>"
      ]
     },
     "metadata": {
      "needs_background": "light"
     },
     "output_type": "display_data"
    }
   ],
   "source": [
    "le.plot()"
   ]
  },
  {
   "cell_type": "code",
   "execution_count": 17,
   "metadata": {},
   "outputs": [],
   "source": [
    "pop=p.groupby('year')['pop'].mean()"
   ]
  },
  {
   "cell_type": "code",
   "execution_count": 18,
   "metadata": {},
   "outputs": [
    {
     "data": {
      "text/plain": [
       "<matplotlib.axes._subplots.AxesSubplot at 0x138c165aac8>"
      ]
     },
     "execution_count": 18,
     "metadata": {},
     "output_type": "execute_result"
    },
    {
     "data": {
      "image/png": "[encoded data removed]",
      "text/plain": [
       "<Figure size 432x288 with 1 Axes>"
      ]
     },
     "metadata": {
      "needs_background": "light"
     },
     "output_type": "display_data"
    }
   ],
   "source": [
    "pop.plot()"
   ]
  },
  {
   "cell_type": "code",
   "execution_count": null,
   "metadata": {},
   "outputs": [],
   "source": []
  }
 ],
 "metadata": {
  "kernelspec": {
   "display_name": "Python 3",
   "language": "python",
   "name": "python3"
  },
  "language_info": {
   "codemirror_mode": {
    "name": "ipython",
    "version": 3
   },
   "file_extension": ".py",
   "mimetype": "text/x-python",
   "name": "python",
   "nbconvert_exporter": "python",
   "pygments_lexer": "ipython3",
   "version": "3.7.3"
  }
 },
 "nbformat": 4,
 "nbformat_minor": 2
}
